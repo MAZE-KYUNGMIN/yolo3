{
  "nbformat": 4,
  "nbformat_minor": 0,
  "metadata": {
    "colab": {
      "name": "YOLOv3.ipynb",
      "provenance": [],
      "authorship_tag": "ABX9TyOSKdFZurbojRyzaBBFde7z",
      "include_colab_link": true
    },
    "kernelspec": {
      "name": "python3",
      "display_name": "Python 3"
    },
    "language_info": {
      "name": "python"
    },
    "accelerator": "GPU"
  },
  "cells": [
    {
      "cell_type": "markdown",
      "metadata": {
        "id": "view-in-github",
        "colab_type": "text"
      },
      "source": [
        "<a href=\"https://colab.research.google.com/github/epochee/yolo3/blob/main/YOLOv3.ipynb\" target=\"_parent\"><img src=\"https://colab.research.google.com/assets/colab-badge.svg\" alt=\"Open In Colab\"/></a>"
      ]
    },
    {
      "cell_type": "code",
      "source": [
        "!pip uninstall -y tensorflow keras "
      ],
      "metadata": {
        "colab": {
          "base_uri": "https://localhost:8080/"
        },
        "id": "7OBU-DFs6LuX",
        "outputId": "342c9571-16d3-4960-ab9b-74246762514a"
      },
      "execution_count": 1,
      "outputs": [
        {
          "output_type": "stream",
          "name": "stdout",
          "text": [
            "\u001b[33mWARNING: Skipping tensorflow as it is not installed.\u001b[0m\n",
            "Found existing installation: Keras 2.4.2\n",
            "Uninstalling Keras-2.4.2:\n",
            "  Successfully uninstalled Keras-2.4.2\n"
          ]
        }
      ]
    },
    {
      "cell_type": "code",
      "source": [
        "!git clone https://github.com/zzh8829/yolov3-tf2"
      ],
      "metadata": {
        "colab": {
          "base_uri": "https://localhost:8080/"
        },
        "id": "65v-Y6lV51Oc",
        "outputId": "178a25d8-2631-4a7f-8ce9-7f04ea48b792"
      },
      "execution_count": 2,
      "outputs": [
        {
          "output_type": "stream",
          "name": "stdout",
          "text": [
            "fatal: destination path 'yolov3-tf2' already exists and is not an empty directory.\n"
          ]
        }
      ]
    },
    {
      "cell_type": "code",
      "source": [
        "%cd yolov3-tf2"
      ],
      "metadata": {
        "colab": {
          "base_uri": "https://localhost:8080/"
        },
        "id": "dATFO-pD6qAq",
        "outputId": "b9f8232d-a75b-440d-a798-613a369fc472"
      },
      "execution_count": 3,
      "outputs": [
        {
          "output_type": "stream",
          "name": "stdout",
          "text": [
            "/content/yolov3-tf2\n"
          ]
        }
      ]
    },
    {
      "cell_type": "code",
      "source": [
        "%pwd"
      ],
      "metadata": {
        "colab": {
          "base_uri": "https://localhost:8080/",
          "height": 36
        },
        "id": "Ss2SWofr61Yz",
        "outputId": "6e2e2ceb-9e43-4c7e-c170-19358ce0b0b8"
      },
      "execution_count": 4,
      "outputs": [
        {
          "output_type": "execute_result",
          "data": {
            "text/plain": [
              "'/content/yolov3-tf2'"
            ],
            "application/vnd.google.colaboratory.intrinsic+json": {
              "type": "string"
            }
          },
          "metadata": {},
          "execution_count": 4
        }
      ]
    },
    {
      "cell_type": "code",
      "source": [
        "!pip install -r requirements-gpu.txt"
      ],
      "metadata": {
        "colab": {
          "base_uri": "https://localhost:8080/"
        },
        "id": "zmFUq_nR645R",
        "outputId": "220b2dee-55d5-4ce2-8322-9241eca873b0"
      },
      "execution_count": 5,
      "outputs": [
        {
          "output_type": "stream",
          "name": "stdout",
          "text": [
            "Obtaining file:///content/yolov3-tf2 (from -r requirements-gpu.txt (line 6))\n",
            "Requirement already satisfied: tensorflow-gpu==2.5.1 in /usr/local/lib/python3.7/dist-packages (from -r requirements-gpu.txt (line 1)) (2.5.1)\n",
            "Requirement already satisfied: opencv-python==4.2.0.32 in /usr/local/lib/python3.7/dist-packages (from -r requirements-gpu.txt (line 2)) (4.2.0.32)\n",
            "Requirement already satisfied: lxml in /usr/local/lib/python3.7/dist-packages (from -r requirements-gpu.txt (line 3)) (4.2.6)\n",
            "Requirement already satisfied: tqdm in /usr/local/lib/python3.7/dist-packages (from -r requirements-gpu.txt (line 4)) (4.64.0)\n",
            "Requirement already satisfied: tensorboard~=2.5 in /usr/local/lib/python3.7/dist-packages (from tensorflow-gpu==2.5.1->-r requirements-gpu.txt (line 1)) (2.8.0)\n",
            "Requirement already satisfied: h5py~=3.1.0 in /usr/local/lib/python3.7/dist-packages (from tensorflow-gpu==2.5.1->-r requirements-gpu.txt (line 1)) (3.1.0)\n",
            "Requirement already satisfied: grpcio~=1.34.0 in /usr/local/lib/python3.7/dist-packages (from tensorflow-gpu==2.5.1->-r requirements-gpu.txt (line 1)) (1.34.1)\n",
            "Requirement already satisfied: six~=1.15.0 in /usr/local/lib/python3.7/dist-packages (from tensorflow-gpu==2.5.1->-r requirements-gpu.txt (line 1)) (1.15.0)\n",
            "Requirement already satisfied: keras-nightly~=2.5.0.dev in /usr/local/lib/python3.7/dist-packages (from tensorflow-gpu==2.5.1->-r requirements-gpu.txt (line 1)) (2.5.0.dev2021032900)\n",
            "Requirement already satisfied: numpy~=1.19.2 in /usr/local/lib/python3.7/dist-packages (from tensorflow-gpu==2.5.1->-r requirements-gpu.txt (line 1)) (1.19.5)\n",
            "Requirement already satisfied: termcolor~=1.1.0 in /usr/local/lib/python3.7/dist-packages (from tensorflow-gpu==2.5.1->-r requirements-gpu.txt (line 1)) (1.1.0)\n",
            "Requirement already satisfied: flatbuffers~=1.12.0 in /usr/local/lib/python3.7/dist-packages (from tensorflow-gpu==2.5.1->-r requirements-gpu.txt (line 1)) (1.12)\n",
            "Requirement already satisfied: astunparse~=1.6.3 in /usr/local/lib/python3.7/dist-packages (from tensorflow-gpu==2.5.1->-r requirements-gpu.txt (line 1)) (1.6.3)\n",
            "Requirement already satisfied: wrapt~=1.12.1 in /usr/local/lib/python3.7/dist-packages (from tensorflow-gpu==2.5.1->-r requirements-gpu.txt (line 1)) (1.12.1)\n",
            "Requirement already satisfied: absl-py~=0.10 in /usr/local/lib/python3.7/dist-packages (from tensorflow-gpu==2.5.1->-r requirements-gpu.txt (line 1)) (0.15.0)\n",
            "Requirement already satisfied: opt-einsum~=3.3.0 in /usr/local/lib/python3.7/dist-packages (from tensorflow-gpu==2.5.1->-r requirements-gpu.txt (line 1)) (3.3.0)\n",
            "Requirement already satisfied: protobuf>=3.9.2 in /usr/local/lib/python3.7/dist-packages (from tensorflow-gpu==2.5.1->-r requirements-gpu.txt (line 1)) (3.17.3)\n",
            "Requirement already satisfied: gast==0.4.0 in /usr/local/lib/python3.7/dist-packages (from tensorflow-gpu==2.5.1->-r requirements-gpu.txt (line 1)) (0.4.0)\n",
            "Requirement already satisfied: google-pasta~=0.2 in /usr/local/lib/python3.7/dist-packages (from tensorflow-gpu==2.5.1->-r requirements-gpu.txt (line 1)) (0.2.0)\n",
            "Requirement already satisfied: keras-preprocessing~=1.1.2 in /usr/local/lib/python3.7/dist-packages (from tensorflow-gpu==2.5.1->-r requirements-gpu.txt (line 1)) (1.1.2)\n",
            "Requirement already satisfied: tensorflow-estimator<2.6.0,>=2.5.0 in /usr/local/lib/python3.7/dist-packages (from tensorflow-gpu==2.5.1->-r requirements-gpu.txt (line 1)) (2.5.0)\n",
            "Requirement already satisfied: wheel~=0.35 in /usr/local/lib/python3.7/dist-packages (from tensorflow-gpu==2.5.1->-r requirements-gpu.txt (line 1)) (0.37.1)\n",
            "Requirement already satisfied: typing-extensions~=3.7.4 in /usr/local/lib/python3.7/dist-packages (from tensorflow-gpu==2.5.1->-r requirements-gpu.txt (line 1)) (3.7.4.3)\n",
            "Requirement already satisfied: cached-property in /usr/local/lib/python3.7/dist-packages (from h5py~=3.1.0->tensorflow-gpu==2.5.1->-r requirements-gpu.txt (line 1)) (1.5.2)\n",
            "Requirement already satisfied: tensorboard-data-server<0.7.0,>=0.6.0 in /usr/local/lib/python3.7/dist-packages (from tensorboard~=2.5->tensorflow-gpu==2.5.1->-r requirements-gpu.txt (line 1)) (0.6.1)\n",
            "Requirement already satisfied: google-auth<3,>=1.6.3 in /usr/local/lib/python3.7/dist-packages (from tensorboard~=2.5->tensorflow-gpu==2.5.1->-r requirements-gpu.txt (line 1)) (1.35.0)\n",
            "Requirement already satisfied: setuptools>=41.0.0 in /usr/local/lib/python3.7/dist-packages (from tensorboard~=2.5->tensorflow-gpu==2.5.1->-r requirements-gpu.txt (line 1)) (57.4.0)\n",
            "Requirement already satisfied: werkzeug>=0.11.15 in /usr/local/lib/python3.7/dist-packages (from tensorboard~=2.5->tensorflow-gpu==2.5.1->-r requirements-gpu.txt (line 1)) (1.0.1)\n",
            "Requirement already satisfied: requests<3,>=2.21.0 in /usr/local/lib/python3.7/dist-packages (from tensorboard~=2.5->tensorflow-gpu==2.5.1->-r requirements-gpu.txt (line 1)) (2.23.0)\n",
            "Requirement already satisfied: tensorboard-plugin-wit>=1.6.0 in /usr/local/lib/python3.7/dist-packages (from tensorboard~=2.5->tensorflow-gpu==2.5.1->-r requirements-gpu.txt (line 1)) (1.8.1)\n",
            "Requirement already satisfied: markdown>=2.6.8 in /usr/local/lib/python3.7/dist-packages (from tensorboard~=2.5->tensorflow-gpu==2.5.1->-r requirements-gpu.txt (line 1)) (3.3.6)\n",
            "Requirement already satisfied: google-auth-oauthlib<0.5,>=0.4.1 in /usr/local/lib/python3.7/dist-packages (from tensorboard~=2.5->tensorflow-gpu==2.5.1->-r requirements-gpu.txt (line 1)) (0.4.6)\n",
            "Requirement already satisfied: pyasn1-modules>=0.2.1 in /usr/local/lib/python3.7/dist-packages (from google-auth<3,>=1.6.3->tensorboard~=2.5->tensorflow-gpu==2.5.1->-r requirements-gpu.txt (line 1)) (0.2.8)\n",
            "Requirement already satisfied: rsa<5,>=3.1.4 in /usr/local/lib/python3.7/dist-packages (from google-auth<3,>=1.6.3->tensorboard~=2.5->tensorflow-gpu==2.5.1->-r requirements-gpu.txt (line 1)) (4.8)\n",
            "Requirement already satisfied: cachetools<5.0,>=2.0.0 in /usr/local/lib/python3.7/dist-packages (from google-auth<3,>=1.6.3->tensorboard~=2.5->tensorflow-gpu==2.5.1->-r requirements-gpu.txt (line 1)) (4.2.4)\n",
            "Requirement already satisfied: requests-oauthlib>=0.7.0 in /usr/local/lib/python3.7/dist-packages (from google-auth-oauthlib<0.5,>=0.4.1->tensorboard~=2.5->tensorflow-gpu==2.5.1->-r requirements-gpu.txt (line 1)) (1.3.1)\n",
            "Requirement already satisfied: importlib-metadata>=4.4 in /usr/local/lib/python3.7/dist-packages (from markdown>=2.6.8->tensorboard~=2.5->tensorflow-gpu==2.5.1->-r requirements-gpu.txt (line 1)) (4.11.3)\n",
            "Requirement already satisfied: zipp>=0.5 in /usr/local/lib/python3.7/dist-packages (from importlib-metadata>=4.4->markdown>=2.6.8->tensorboard~=2.5->tensorflow-gpu==2.5.1->-r requirements-gpu.txt (line 1)) (3.8.0)\n",
            "Requirement already satisfied: pyasn1<0.5.0,>=0.4.6 in /usr/local/lib/python3.7/dist-packages (from pyasn1-modules>=0.2.1->google-auth<3,>=1.6.3->tensorboard~=2.5->tensorflow-gpu==2.5.1->-r requirements-gpu.txt (line 1)) (0.4.8)\n",
            "Requirement already satisfied: urllib3!=1.25.0,!=1.25.1,<1.26,>=1.21.1 in /usr/local/lib/python3.7/dist-packages (from requests<3,>=2.21.0->tensorboard~=2.5->tensorflow-gpu==2.5.1->-r requirements-gpu.txt (line 1)) (1.24.3)\n",
            "Requirement already satisfied: chardet<4,>=3.0.2 in /usr/local/lib/python3.7/dist-packages (from requests<3,>=2.21.0->tensorboard~=2.5->tensorflow-gpu==2.5.1->-r requirements-gpu.txt (line 1)) (3.0.4)\n",
            "Requirement already satisfied: certifi>=2017.4.17 in /usr/local/lib/python3.7/dist-packages (from requests<3,>=2.21.0->tensorboard~=2.5->tensorflow-gpu==2.5.1->-r requirements-gpu.txt (line 1)) (2021.10.8)\n",
            "Requirement already satisfied: idna<3,>=2.5 in /usr/local/lib/python3.7/dist-packages (from requests<3,>=2.21.0->tensorboard~=2.5->tensorflow-gpu==2.5.1->-r requirements-gpu.txt (line 1)) (2.10)\n",
            "Requirement already satisfied: oauthlib>=3.0.0 in /usr/local/lib/python3.7/dist-packages (from requests-oauthlib>=0.7.0->google-auth-oauthlib<0.5,>=0.4.1->tensorboard~=2.5->tensorflow-gpu==2.5.1->-r requirements-gpu.txt (line 1)) (3.2.0)\n",
            "Installing collected packages: yolov3-tf2\n",
            "  Attempting uninstall: yolov3-tf2\n",
            "    Found existing installation: yolov3-tf2 0.1\n",
            "    Can't uninstall 'yolov3-tf2'. No files were found to uninstall.\n",
            "  Running setup.py develop for yolov3-tf2\n",
            "Successfully installed yolov3-tf2-0.1\n"
          ]
        }
      ]
    },
    {
      "cell_type": "code",
      "source": [
        "!pip install keras==2.4.2"
      ],
      "metadata": {
        "colab": {
          "base_uri": "https://localhost:8080/"
        },
        "id": "LCXgk7KR7WII",
        "outputId": "fc1fe685-9957-400f-fdfe-fee0b9f530fd"
      },
      "execution_count": 6,
      "outputs": [
        {
          "output_type": "stream",
          "name": "stdout",
          "text": [
            "Collecting keras==2.4.2\n",
            "  Using cached Keras-2.4.2-py2.py3-none-any.whl (170 kB)\n",
            "Requirement already satisfied: h5py in /usr/local/lib/python3.7/dist-packages (from keras==2.4.2) (3.1.0)\n",
            "Requirement already satisfied: scipy>=0.14 in /usr/local/lib/python3.7/dist-packages (from keras==2.4.2) (1.4.1)\n",
            "Requirement already satisfied: numpy>=1.9.1 in /usr/local/lib/python3.7/dist-packages (from keras==2.4.2) (1.19.5)\n",
            "Requirement already satisfied: pyyaml in /usr/local/lib/python3.7/dist-packages (from keras==2.4.2) (3.13)\n",
            "Requirement already satisfied: cached-property in /usr/local/lib/python3.7/dist-packages (from h5py->keras==2.4.2) (1.5.2)\n",
            "Installing collected packages: keras\n",
            "Successfully installed keras-2.4.2\n"
          ]
        }
      ]
    },
    {
      "cell_type": "code",
      "source": [
        "# 욜로 가중치 다운로드\n",
        "\n",
        "!wget https://pjreddie.com/media/files/yolov3.weights -O data/yolov3.weights"
      ],
      "metadata": {
        "colab": {
          "base_uri": "https://localhost:8080/"
        },
        "id": "MpbcRO_n8ETo",
        "outputId": "0820d5f2-2ee3-42ac-ccc3-dff8c5ee25ff"
      },
      "execution_count": 7,
      "outputs": [
        {
          "output_type": "stream",
          "name": "stdout",
          "text": [
            "--2022-05-12 05:28:37--  https://pjreddie.com/media/files/yolov3.weights\n",
            "Resolving pjreddie.com (pjreddie.com)... 128.208.4.108\n",
            "Connecting to pjreddie.com (pjreddie.com)|128.208.4.108|:443... connected.\n",
            "HTTP request sent, awaiting response... 200 OK\n",
            "Length: 248007048 (237M) [application/octet-stream]\n",
            "Saving to: ‘data/yolov3.weights’\n",
            "\n",
            "data/yolov3.weights 100%[===================>] 236.52M  62.4MB/s    in 4.0s    \n",
            "\n",
            "2022-05-12 05:28:41 (59.0 MB/s) - ‘data/yolov3.weights’ saved [248007048/248007048]\n",
            "\n"
          ]
        }
      ]
    },
    {
      "cell_type": "code",
      "source": [
        "#\n",
        "\n",
        "!python convert.py --weights ./data/yolov3.weights --output ./checkpoints/yolov3.tf"
      ],
      "metadata": {
        "colab": {
          "base_uri": "https://localhost:8080/"
        },
        "id": "abX4UCCv890G",
        "outputId": "927b929c-0b8a-4301-991b-a1ace83e5aa9"
      },
      "execution_count": 8,
      "outputs": [
        {
          "output_type": "stream",
          "name": "stdout",
          "text": [
            "2022-05-12 05:28:42.271879: I tensorflow/stream_executor/platform/default/dso_loader.cc:53] Successfully opened dynamic library libcudart.so.11.0\n",
            "2022-05-12 05:28:43.560114: I tensorflow/stream_executor/platform/default/dso_loader.cc:53] Successfully opened dynamic library libcuda.so.1\n",
            "2022-05-12 05:28:43.589762: I tensorflow/stream_executor/cuda/cuda_gpu_executor.cc:937] successful NUMA node read from SysFS had negative value (-1), but there must be at least one NUMA node, so returning NUMA node zero\n",
            "2022-05-12 05:28:43.590374: I tensorflow/core/common_runtime/gpu/gpu_device.cc:1733] Found device 0 with properties: \n",
            "pciBusID: 0000:00:04.0 name: Tesla T4 computeCapability: 7.5\n",
            "coreClock: 1.59GHz coreCount: 40 deviceMemorySize: 14.75GiB deviceMemoryBandwidth: 298.08GiB/s\n",
            "2022-05-12 05:28:43.590411: I tensorflow/stream_executor/platform/default/dso_loader.cc:53] Successfully opened dynamic library libcudart.so.11.0\n",
            "2022-05-12 05:28:43.593078: I tensorflow/stream_executor/platform/default/dso_loader.cc:53] Successfully opened dynamic library libcublas.so.11\n",
            "2022-05-12 05:28:43.593162: I tensorflow/stream_executor/platform/default/dso_loader.cc:53] Successfully opened dynamic library libcublasLt.so.11\n",
            "2022-05-12 05:28:43.594220: I tensorflow/stream_executor/platform/default/dso_loader.cc:53] Successfully opened dynamic library libcufft.so.10\n",
            "2022-05-12 05:28:43.594511: I tensorflow/stream_executor/platform/default/dso_loader.cc:53] Successfully opened dynamic library libcurand.so.10\n",
            "2022-05-12 05:28:43.597253: I tensorflow/stream_executor/platform/default/dso_loader.cc:53] Successfully opened dynamic library libcusolver.so.11\n",
            "2022-05-12 05:28:43.598103: I tensorflow/stream_executor/platform/default/dso_loader.cc:53] Successfully opened dynamic library libcusparse.so.11\n",
            "2022-05-12 05:28:43.598289: I tensorflow/stream_executor/platform/default/dso_loader.cc:53] Successfully opened dynamic library libcudnn.so.8\n",
            "2022-05-12 05:28:43.598381: I tensorflow/stream_executor/cuda/cuda_gpu_executor.cc:937] successful NUMA node read from SysFS had negative value (-1), but there must be at least one NUMA node, so returning NUMA node zero\n",
            "2022-05-12 05:28:43.599016: I tensorflow/stream_executor/cuda/cuda_gpu_executor.cc:937] successful NUMA node read from SysFS had negative value (-1), but there must be at least one NUMA node, so returning NUMA node zero\n",
            "2022-05-12 05:28:43.599565: I tensorflow/core/common_runtime/gpu/gpu_device.cc:1871] Adding visible gpu devices: 0\n",
            "2022-05-12 05:28:43.669534: I tensorflow/core/platform/cpu_feature_guard.cc:142] This TensorFlow binary is optimized with oneAPI Deep Neural Network Library (oneDNN) to use the following CPU instructions in performance-critical operations:  AVX2 FMA\n",
            "To enable them in other operations, rebuild TensorFlow with the appropriate compiler flags.\n",
            "2022-05-12 05:28:43.669852: I tensorflow/stream_executor/cuda/cuda_gpu_executor.cc:937] successful NUMA node read from SysFS had negative value (-1), but there must be at least one NUMA node, so returning NUMA node zero\n",
            "2022-05-12 05:28:43.670489: I tensorflow/core/common_runtime/gpu/gpu_device.cc:1733] Found device 0 with properties: \n",
            "pciBusID: 0000:00:04.0 name: Tesla T4 computeCapability: 7.5\n",
            "coreClock: 1.59GHz coreCount: 40 deviceMemorySize: 14.75GiB deviceMemoryBandwidth: 298.08GiB/s\n",
            "2022-05-12 05:28:43.670594: I tensorflow/stream_executor/cuda/cuda_gpu_executor.cc:937] successful NUMA node read from SysFS had negative value (-1), but there must be at least one NUMA node, so returning NUMA node zero\n",
            "2022-05-12 05:28:43.671199: I tensorflow/stream_executor/cuda/cuda_gpu_executor.cc:937] successful NUMA node read from SysFS had negative value (-1), but there must be at least one NUMA node, so returning NUMA node zero\n",
            "2022-05-12 05:28:43.671731: I tensorflow/core/common_runtime/gpu/gpu_device.cc:1871] Adding visible gpu devices: 0\n",
            "2022-05-12 05:28:43.671786: I tensorflow/stream_executor/platform/default/dso_loader.cc:53] Successfully opened dynamic library libcudart.so.11.0\n",
            "2022-05-12 05:28:44.418193: I tensorflow/core/common_runtime/gpu/gpu_device.cc:1258] Device interconnect StreamExecutor with strength 1 edge matrix:\n",
            "2022-05-12 05:28:44.418248: I tensorflow/core/common_runtime/gpu/gpu_device.cc:1264]      0 \n",
            "2022-05-12 05:28:44.418263: I tensorflow/core/common_runtime/gpu/gpu_device.cc:1277] 0:   N \n",
            "2022-05-12 05:28:44.418428: I tensorflow/stream_executor/cuda/cuda_gpu_executor.cc:937] successful NUMA node read from SysFS had negative value (-1), but there must be at least one NUMA node, so returning NUMA node zero\n",
            "2022-05-12 05:28:44.419093: I tensorflow/stream_executor/cuda/cuda_gpu_executor.cc:937] successful NUMA node read from SysFS had negative value (-1), but there must be at least one NUMA node, so returning NUMA node zero\n",
            "2022-05-12 05:28:44.419667: I tensorflow/stream_executor/cuda/cuda_gpu_executor.cc:937] successful NUMA node read from SysFS had negative value (-1), but there must be at least one NUMA node, so returning NUMA node zero\n",
            "2022-05-12 05:28:44.420196: I tensorflow/core/common_runtime/gpu/gpu_device.cc:1418] Created TensorFlow device (/job:localhost/replica:0/task:0/device:GPU:0 with 13803 MB memory) -> physical GPU (device: 0, name: Tesla T4, pci bus id: 0000:00:04.0, compute capability: 7.5)\n",
            "WARNING:tensorflow:From /usr/local/lib/python3.7/dist-packages/tensorflow/python/ops/array_ops.py:5049: calling gather (from tensorflow.python.ops.array_ops) with validate_indices is deprecated and will be removed in a future version.\n",
            "Instructions for updating:\n",
            "The `validate_indices` argument has no effect. Indices are always validated on CPU and never validated on GPU.\n",
            "W0512 05:28:46.514407 140384560736128 deprecation.py:534] From /usr/local/lib/python3.7/dist-packages/tensorflow/python/ops/array_ops.py:5049: calling gather (from tensorflow.python.ops.array_ops) with validate_indices is deprecated and will be removed in a future version.\n",
            "Instructions for updating:\n",
            "The `validate_indices` argument has no effect. Indices are always validated on CPU and never validated on GPU.\n",
            "Model: \"yolov3\"\n",
            "__________________________________________________________________________________________________\n",
            "Layer (type)                    Output Shape         Param #     Connected to                     \n",
            "==================================================================================================\n",
            "input (InputLayer)              [(None, None, None,  0                                            \n",
            "__________________________________________________________________________________________________\n",
            "yolo_darknet (Functional)       ((None, None, None,  40620640    input[0][0]                      \n",
            "__________________________________________________________________________________________________\n",
            "yolo_conv_0 (Functional)        (None, None, None, 5 11024384    yolo_darknet[0][2]               \n",
            "__________________________________________________________________________________________________\n",
            "yolo_conv_1 (Functional)        (None, None, None, 2 2957312     yolo_conv_0[0][0]                \n",
            "                                                                 yolo_darknet[0][1]               \n",
            "__________________________________________________________________________________________________\n",
            "yolo_conv_2 (Functional)        (None, None, None, 1 741376      yolo_conv_1[0][0]                \n",
            "                                                                 yolo_darknet[0][0]               \n",
            "__________________________________________________________________________________________________\n",
            "yolo_output_0 (Functional)      (None, None, None, 3 4984063     yolo_conv_0[0][0]                \n",
            "__________________________________________________________________________________________________\n",
            "yolo_output_1 (Functional)      (None, None, None, 3 1312511     yolo_conv_1[0][0]                \n",
            "__________________________________________________________________________________________________\n",
            "yolo_output_2 (Functional)      (None, None, None, 3 361471      yolo_conv_2[0][0]                \n",
            "__________________________________________________________________________________________________\n",
            "yolo_boxes_0 (Lambda)           ((None, None, None,  0           yolo_output_0[0][0]              \n",
            "__________________________________________________________________________________________________\n",
            "yolo_boxes_1 (Lambda)           ((None, None, None,  0           yolo_output_1[0][0]              \n",
            "__________________________________________________________________________________________________\n",
            "yolo_boxes_2 (Lambda)           ((None, None, None,  0           yolo_output_2[0][0]              \n",
            "__________________________________________________________________________________________________\n",
            "yolo_nms (Lambda)               ((1, None, 4), (1, N 0           yolo_boxes_0[0][0]               \n",
            "                                                                 yolo_boxes_0[0][1]               \n",
            "                                                                 yolo_boxes_0[0][2]               \n",
            "                                                                 yolo_boxes_1[0][0]               \n",
            "                                                                 yolo_boxes_1[0][1]               \n",
            "                                                                 yolo_boxes_1[0][2]               \n",
            "                                                                 yolo_boxes_2[0][0]               \n",
            "                                                                 yolo_boxes_2[0][1]               \n",
            "                                                                 yolo_boxes_2[0][2]               \n",
            "==================================================================================================\n",
            "Total params: 62,001,757\n",
            "Trainable params: 61,949,149\n",
            "Non-trainable params: 52,608\n",
            "__________________________________________________________________________________________________\n",
            "I0512 05:28:46.544858 140384560736128 convert.py:24] model created\n",
            "I0512 05:28:46.546310 140384560736128 utils.py:45] yolo_darknet/conv2d bn\n",
            "I0512 05:28:46.549180 140384560736128 utils.py:45] yolo_darknet/conv2d_1 bn\n",
            "I0512 05:28:46.552077 140384560736128 utils.py:45] yolo_darknet/conv2d_2 bn\n",
            "I0512 05:28:46.554810 140384560736128 utils.py:45] yolo_darknet/conv2d_3 bn\n",
            "I0512 05:28:46.557621 140384560736128 utils.py:45] yolo_darknet/conv2d_4 bn\n",
            "I0512 05:28:46.562526 140384560736128 utils.py:45] yolo_darknet/conv2d_5 bn\n",
            "I0512 05:28:46.568426 140384560736128 utils.py:45] yolo_darknet/conv2d_6 bn\n",
            "I0512 05:28:46.571488 140384560736128 utils.py:45] yolo_darknet/conv2d_7 bn\n",
            "I0512 05:28:46.574245 140384560736128 utils.py:45] yolo_darknet/conv2d_8 bn\n",
            "I0512 05:28:46.577434 140384560736128 utils.py:45] yolo_darknet/conv2d_9 bn\n",
            "I0512 05:28:46.582793 140384560736128 utils.py:45] yolo_darknet/conv2d_10 bn\n",
            "I0512 05:28:46.585821 140384560736128 utils.py:45] yolo_darknet/conv2d_11 bn\n",
            "I0512 05:28:46.591269 140384560736128 utils.py:45] yolo_darknet/conv2d_12 bn\n",
            "I0512 05:28:46.594257 140384560736128 utils.py:45] yolo_darknet/conv2d_13 bn\n",
            "I0512 05:28:46.598412 140384560736128 utils.py:45] yolo_darknet/conv2d_14 bn\n",
            "I0512 05:28:46.601329 140384560736128 utils.py:45] yolo_darknet/conv2d_15 bn\n",
            "I0512 05:28:46.605762 140384560736128 utils.py:45] yolo_darknet/conv2d_16 bn\n",
            "I0512 05:28:46.608540 140384560736128 utils.py:45] yolo_darknet/conv2d_17 bn\n",
            "I0512 05:28:46.612804 140384560736128 utils.py:45] yolo_darknet/conv2d_18 bn\n",
            "I0512 05:28:46.615667 140384560736128 utils.py:45] yolo_darknet/conv2d_19 bn\n",
            "I0512 05:28:46.619884 140384560736128 utils.py:45] yolo_darknet/conv2d_20 bn\n",
            "I0512 05:28:46.622399 140384560736128 utils.py:45] yolo_darknet/conv2d_21 bn\n",
            "I0512 05:28:46.625997 140384560736128 utils.py:45] yolo_darknet/conv2d_22 bn\n",
            "I0512 05:28:46.628948 140384560736128 utils.py:45] yolo_darknet/conv2d_23 bn\n",
            "I0512 05:28:46.633272 140384560736128 utils.py:45] yolo_darknet/conv2d_24 bn\n",
            "I0512 05:28:46.637717 140384560736128 utils.py:45] yolo_darknet/conv2d_25 bn\n",
            "I0512 05:28:46.644628 140384560736128 utils.py:45] yolo_darknet/conv2d_26 bn\n",
            "I0512 05:28:46.655184 140384560736128 utils.py:45] yolo_darknet/conv2d_27 bn\n",
            "I0512 05:28:46.671405 140384560736128 utils.py:45] yolo_darknet/conv2d_28 bn\n",
            "I0512 05:28:46.687555 140384560736128 utils.py:45] yolo_darknet/conv2d_29 bn\n",
            "I0512 05:28:46.696773 140384560736128 utils.py:45] yolo_darknet/conv2d_30 bn\n",
            "I0512 05:28:46.704663 140384560736128 utils.py:45] yolo_darknet/conv2d_31 bn\n",
            "I0512 05:28:46.708086 140384560736128 utils.py:45] yolo_darknet/conv2d_32 bn\n",
            "I0512 05:28:46.715855 140384560736128 utils.py:45] yolo_darknet/conv2d_33 bn\n",
            "I0512 05:28:46.718525 140384560736128 utils.py:45] yolo_darknet/conv2d_34 bn\n",
            "I0512 05:28:46.726366 140384560736128 utils.py:45] yolo_darknet/conv2d_35 bn\n",
            "I0512 05:28:46.729578 140384560736128 utils.py:45] yolo_darknet/conv2d_36 bn\n",
            "I0512 05:28:46.737256 140384560736128 utils.py:45] yolo_darknet/conv2d_37 bn\n",
            "I0512 05:28:46.740665 140384560736128 utils.py:45] yolo_darknet/conv2d_38 bn\n",
            "I0512 05:28:46.748441 140384560736128 utils.py:45] yolo_darknet/conv2d_39 bn\n",
            "I0512 05:28:46.751904 140384560736128 utils.py:45] yolo_darknet/conv2d_40 bn\n",
            "I0512 05:28:46.760792 140384560736128 utils.py:45] yolo_darknet/conv2d_41 bn\n",
            "I0512 05:28:46.764200 140384560736128 utils.py:45] yolo_darknet/conv2d_42 bn\n",
            "I0512 05:28:46.772150 140384560736128 utils.py:45] yolo_darknet/conv2d_43 bn\n",
            "I0512 05:28:46.838596 140384560736128 utils.py:45] yolo_darknet/conv2d_44 bn\n",
            "I0512 05:28:46.845690 140384560736128 utils.py:45] yolo_darknet/conv2d_45 bn\n",
            "I0512 05:28:46.876772 140384560736128 utils.py:45] yolo_darknet/conv2d_46 bn\n",
            "I0512 05:28:46.883654 140384560736128 utils.py:45] yolo_darknet/conv2d_47 bn\n",
            "I0512 05:28:46.924595 140384560736128 utils.py:45] yolo_darknet/conv2d_48 bn\n",
            "I0512 05:28:46.931959 140384560736128 utils.py:45] yolo_darknet/conv2d_49 bn\n",
            "I0512 05:28:46.964192 140384560736128 utils.py:45] yolo_darknet/conv2d_50 bn\n",
            "I0512 05:28:46.990778 140384560736128 utils.py:45] yolo_darknet/conv2d_51 bn\n",
            "I0512 05:28:47.039009 140384560736128 utils.py:45] yolo_conv_0/conv2d_52 bn\n",
            "I0512 05:28:47.044571 140384560736128 utils.py:45] yolo_conv_0/conv2d_53 bn\n",
            "I0512 05:28:47.082815 140384560736128 utils.py:45] yolo_conv_0/conv2d_54 bn\n",
            "I0512 05:28:47.090481 140384560736128 utils.py:45] yolo_conv_0/conv2d_55 bn\n",
            "I0512 05:28:47.120243 140384560736128 utils.py:45] yolo_conv_0/conv2d_56 bn\n",
            "I0512 05:28:47.125543 140384560736128 utils.py:45] yolo_output_0/conv2d_57 bn\n",
            "I0512 05:28:47.162620 140384560736128 utils.py:45] yolo_output_0/conv2d_58 bias\n",
            "I0512 05:28:47.166143 140384560736128 utils.py:45] yolo_conv_1/conv2d_59 bn\n",
            "I0512 05:28:47.168982 140384560736128 utils.py:45] yolo_conv_1/conv2d_60 bn\n",
            "I0512 05:28:47.174314 140384560736128 utils.py:45] yolo_conv_1/conv2d_61 bn\n",
            "I0512 05:28:47.181972 140384560736128 utils.py:45] yolo_conv_1/conv2d_62 bn\n",
            "I0512 05:28:47.184828 140384560736128 utils.py:45] yolo_conv_1/conv2d_63 bn\n",
            "I0512 05:28:47.192090 140384560736128 utils.py:45] yolo_conv_1/conv2d_64 bn\n",
            "I0512 05:28:47.194560 140384560736128 utils.py:45] yolo_output_1/conv2d_65 bn\n",
            "I0512 05:28:47.201877 140384560736128 utils.py:45] yolo_output_1/conv2d_66 bias\n",
            "I0512 05:28:47.203479 140384560736128 utils.py:45] yolo_conv_2/conv2d_67 bn\n",
            "I0512 05:28:47.205731 140384560736128 utils.py:45] yolo_conv_2/conv2d_68 bn\n",
            "I0512 05:28:47.208251 140384560736128 utils.py:45] yolo_conv_2/conv2d_69 bn\n",
            "I0512 05:28:47.211662 140384560736128 utils.py:45] yolo_conv_2/conv2d_70 bn\n",
            "I0512 05:28:47.213417 140384560736128 utils.py:45] yolo_conv_2/conv2d_71 bn\n",
            "I0512 05:28:47.216670 140384560736128 utils.py:45] yolo_conv_2/conv2d_72 bn\n",
            "I0512 05:28:47.218996 140384560736128 utils.py:45] yolo_output_2/conv2d_73 bn\n",
            "I0512 05:28:47.234328 140384560736128 utils.py:45] yolo_output_2/conv2d_74 bias\n",
            "I0512 05:28:47.235663 140384560736128 convert.py:27] weights loaded\n",
            "2022-05-12 05:28:47.243393: I tensorflow/stream_executor/platform/default/dso_loader.cc:53] Successfully opened dynamic library libcudnn.so.8\n",
            "2022-05-12 05:28:48.137406: E tensorflow/stream_executor/cuda/cuda_dnn.cc:352] Loaded runtime CuDNN library: 8.0.5 but source was compiled with: 8.1.0.  CuDNN library needs to have matching major version and equal or higher minor version. If using a binary install, upgrade your CuDNN library.  If building from sources, make sure the library loaded at runtime is compatible with the version specified during compile configuration.\n",
            "2022-05-12 05:28:48.141283: E tensorflow/stream_executor/cuda/cuda_dnn.cc:352] Loaded runtime CuDNN library: 8.0.5 but source was compiled with: 8.1.0.  CuDNN library needs to have matching major version and equal or higher minor version. If using a binary install, upgrade your CuDNN library.  If building from sources, make sure the library loaded at runtime is compatible with the version specified during compile configuration.\n",
            "Traceback (most recent call last):\n",
            "  File \"convert.py\", line 39, in <module>\n",
            "    app.run(main)\n",
            "  File \"/usr/local/lib/python3.7/dist-packages/absl/app.py\", line 312, in run\n",
            "    _run_main(main, args)\n",
            "  File \"/usr/local/lib/python3.7/dist-packages/absl/app.py\", line 258, in _run_main\n",
            "    sys.exit(main(argv))\n",
            "  File \"convert.py\", line 30, in main\n",
            "    output = yolo(img)\n",
            "  File \"/usr/local/lib/python3.7/dist-packages/tensorflow/python/keras/engine/base_layer.py\", line 1030, in __call__\n",
            "    outputs = call_fn(inputs, *args, **kwargs)\n",
            "  File \"/usr/local/lib/python3.7/dist-packages/tensorflow/python/keras/engine/functional.py\", line 421, in call\n",
            "    inputs, training=training, mask=mask)\n",
            "  File \"/usr/local/lib/python3.7/dist-packages/tensorflow/python/keras/engine/functional.py\", line 556, in _run_internal_graph\n",
            "    outputs = node.layer(*args, **kwargs)\n",
            "  File \"/usr/local/lib/python3.7/dist-packages/tensorflow/python/keras/engine/base_layer.py\", line 1030, in __call__\n",
            "    outputs = call_fn(inputs, *args, **kwargs)\n",
            "  File \"/usr/local/lib/python3.7/dist-packages/tensorflow/python/keras/engine/functional.py\", line 421, in call\n",
            "    inputs, training=training, mask=mask)\n",
            "  File \"/usr/local/lib/python3.7/dist-packages/tensorflow/python/keras/engine/functional.py\", line 556, in _run_internal_graph\n",
            "    outputs = node.layer(*args, **kwargs)\n",
            "  File \"/usr/local/lib/python3.7/dist-packages/tensorflow/python/keras/engine/base_layer.py\", line 1030, in __call__\n",
            "    outputs = call_fn(inputs, *args, **kwargs)\n",
            "  File \"/usr/local/lib/python3.7/dist-packages/tensorflow/python/keras/layers/convolutional.py\", line 249, in call\n",
            "    outputs = self._convolution_op(inputs, self.kernel)\n",
            "  File \"/usr/local/lib/python3.7/dist-packages/tensorflow/python/util/dispatch.py\", line 206, in wrapper\n",
            "    return target(*args, **kwargs)\n",
            "  File \"/usr/local/lib/python3.7/dist-packages/tensorflow/python/ops/nn_ops.py\", line 1019, in convolution_v2\n",
            "    name=name)\n",
            "  File \"/usr/local/lib/python3.7/dist-packages/tensorflow/python/ops/nn_ops.py\", line 1149, in convolution_internal\n",
            "    name=name)\n",
            "  File \"/usr/local/lib/python3.7/dist-packages/tensorflow/python/ops/nn_ops.py\", line 2603, in _conv2d_expanded_batch\n",
            "    name=name)\n",
            "  File \"/usr/local/lib/python3.7/dist-packages/tensorflow/python/ops/gen_nn_ops.py\", line 932, in conv2d\n",
            "    _ops.raise_from_not_ok_status(e, name)\n",
            "  File \"/usr/local/lib/python3.7/dist-packages/tensorflow/python/framework/ops.py\", line 6897, in raise_from_not_ok_status\n",
            "    six.raise_from(core._status_to_exception(e.code, message), None)\n",
            "  File \"<string>\", line 3, in raise_from\n",
            "tensorflow.python.framework.errors_impl.UnknownError: Failed to get convolution algorithm. This is probably because cuDNN failed to initialize, so try looking to see if a warning log message was printed above. [Op:Conv2D]\n"
          ]
        }
      ]
    },
    {
      "cell_type": "markdown",
      "source": [
        "# detect.py 참고"
      ],
      "metadata": {
        "id": "95Emu5v4lhmL"
      }
    },
    {
      "cell_type": "code",
      "source": [
        "import time\n",
        "import cv2\n",
        "\n",
        "import numpy as np\n",
        "import tensorflow as tf\n",
        "\n",
        "from yolov3_tf2.dataset import transform_images, load_tfrecord_dataset\n",
        "from yolov3_tf2.utils import draw_outputs\n",
        "from yolov3_tf2.models import YoloV3\n",
        "from absl import app, flags, logging\n",
        "#플레그의 여러가지 값들을 편리하게 지정 가능\n",
        "from absl.flags import FLAGS\n",
        "\n",
        "from tensorflow.keras.preprocessing import image\n",
        "import matplotlib.pyplot as plt\n",
        "\n",
        "from IPython.display import Image, display"
      ],
      "metadata": {
        "id": "ZVq4hdVO92Ld"
      },
      "execution_count": 9,
      "outputs": []
    },
    {
      "cell_type": "code",
      "source": [
        "flags.DEFINE_string('classes', './data/coco.names', 'classes file')\n",
        "flags.DEFINE_string('weights', './checkpoints/yolov3.tf','weights file')\n",
        "flags.DEFINE_boolean('tiny', False, 'yolov3 or yolov3-tiny')\n",
        "flags.DEFINE_integer('size', 416, 'resize images to')\n",
        "flags.DEFINE_string('image', './data/girl.png', 'input image')\n",
        "flags.DEFINE_string('tfrecord', None, 'tfrecord')\n",
        "flags.DEFINE_string('output', './output.jpg', 'output image')\n",
        "flags.DEFINE_integer('num_classes', 80, 'number of classes')"
      ],
      "metadata": {
        "colab": {
          "base_uri": "https://localhost:8080/"
        },
        "id": "-qDuWk0MB6ZS",
        "outputId": "45a280e3-82f3-4c72-edd4-2382f4f03a21"
      },
      "execution_count": 10,
      "outputs": [
        {
          "output_type": "execute_result",
          "data": {
            "text/plain": [
              "<absl.flags._flagvalues.FlagHolder at 0x7f2379efd650>"
            ]
          },
          "metadata": {},
          "execution_count": 10
        }
      ]
    },
    {
      "cell_type": "code",
      "source": [
        "#플레그를 재정의 했기때문에 욜로v3 초기화\n",
        "app._run_init(['yolov3'], app.parse_flags_with_usage)\n",
        "\n",
        "#재정의한 플레그들 사용\n",
        "physical_devices = tf.config.experimental.list_physical_devices('GPU')\n",
        "tf.config.experimental.set_memory_growth(physical_devices[0], True)"
      ],
      "metadata": {
        "id": "UR3nRtvokFhv"
      },
      "execution_count": 11,
      "outputs": []
    },
    {
      "cell_type": "code",
      "source": [
        "yolo = YoloV3(classes=FLAGS.num_classes)"
      ],
      "metadata": {
        "colab": {
          "base_uri": "https://localhost:8080/"
        },
        "id": "ISQC4CDSkOa-",
        "outputId": "86b63fad-1baa-4fb3-ffa2-963c35b1e40e"
      },
      "execution_count": 12,
      "outputs": [
        {
          "output_type": "stream",
          "name": "stdout",
          "text": [
            "WARNING:tensorflow:From /usr/local/lib/python3.7/dist-packages/tensorflow/python/ops/array_ops.py:5049: calling gather (from tensorflow.python.ops.array_ops) with validate_indices is deprecated and will be removed in a future version.\n",
            "Instructions for updating:\n",
            "The `validate_indices` argument has no effect. Indices are always validated on CPU and never validated on GPU.\n"
          ]
        },
        {
          "output_type": "stream",
          "name": "stderr",
          "text": [
            "W0512 05:28:56.844016 139792163620736 deprecation.py:534] From /usr/local/lib/python3.7/dist-packages/tensorflow/python/ops/array_ops.py:5049: calling gather (from tensorflow.python.ops.array_ops) with validate_indices is deprecated and will be removed in a future version.\n",
            "Instructions for updating:\n",
            "The `validate_indices` argument has no effect. Indices are always validated on CPU and never validated on GPU.\n"
          ]
        }
      ]
    },
    {
      "cell_type": "code",
      "source": [
        "# yolo.load_weights(FLAGS.weights).expect_partial()\n",
        "\n",
        "# #클래스 이름을 리스트로 저장\n",
        "# class_names = [c.strip() for c in open(FLAGS.classes).readlines()]\n"
      ],
      "metadata": {
        "id": "nkXE0NPEkqzo"
      },
      "execution_count": 13,
      "outputs": []
    },
    {
      "cell_type": "code",
      "source": [
        "# img_raw = tf.image.decode_image(\n",
        "#             open(FLAGS.image, 'rb').read(), channels=3)"
      ],
      "metadata": {
        "id": "09Tc6KEYmMuk"
      },
      "execution_count": 14,
      "outputs": []
    }
  ]
}